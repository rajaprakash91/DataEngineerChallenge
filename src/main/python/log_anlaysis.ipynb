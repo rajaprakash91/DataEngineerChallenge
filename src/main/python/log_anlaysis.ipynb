{
 "cells": [
  {
   "cell_type": "markdown",
   "id": "c4511d0b-bde1-4fc8-bea9-10ea65a998c5",
   "metadata": {},
   "source": [
    "## PayPay Data Engineer Challenge - Raja"
   ]
  },
  {
   "cell_type": "code",
   "execution_count": 1,
   "id": "8591be0e-fc22-492c-ada4-661b047e0766",
   "metadata": {},
   "outputs": [],
   "source": [
    "# import Necessary Modules\n",
    "import pyspark\n",
    "from pyspark.sql import SparkSession\n",
    "from pyspark.sql.functions import *\n",
    "from pyspark.sql import Row\n",
    "from pyspark.sql.window import Window\n",
    "\n",
    "\n",
    "import pandas as pd\n",
    "import re\n",
    "\n",
    "import warnings\n",
    "warnings.filterwarnings('ignore')\n",
    "\n",
    "import shutup\n",
    "shutup.please()"
   ]
  },
  {
   "cell_type": "code",
   "execution_count": 2,
   "id": "825ac871-e38f-475b-8e08-37dc5711653a",
   "metadata": {},
   "outputs": [
    {
     "name": "stderr",
     "output_type": "stream",
     "text": [
      "22/05/29 15:05:35 WARN FairSchedulableBuilder: Fair Scheduler configuration file not found so jobs will be scheduled in FIFO order. To use fair scheduling, configure pools in fairscheduler.xml or set spark.scheduler.allocation.file to a file that contains the configuration.\n"
     ]
    },
    {
     "data": {
      "text/html": [
       "\n",
       "            <div>\n",
       "                <p><b>SparkSession - hive</b></p>\n",
       "                \n",
       "        <div>\n",
       "            <p><b>SparkContext</b></p>\n",
       "\n",
       "            <p><a href=\"http://192.168.29.128:4040\">Spark UI</a></p>\n",
       "\n",
       "            <dl>\n",
       "              <dt>Version</dt>\n",
       "                <dd><code>v3.2.1</code></dd>\n",
       "              <dt>Master</dt>\n",
       "                <dd><code>local[2]</code></dd>\n",
       "              <dt>AppName</dt>\n",
       "                <dd><code>payPayApp</code></dd>\n",
       "            </dl>\n",
       "        </div>\n",
       "        \n",
       "            </div>\n",
       "        "
      ],
      "text/plain": [
       "<pyspark.sql.session.SparkSession at 0x7fb420c322d0>"
      ]
     },
     "execution_count": 2,
     "metadata": {},
     "output_type": "execute_result"
    }
   ],
   "source": [
    "# Create Spark Session\n",
    "spark.stop()\n",
    "\n",
    "spark = SparkSession.Builder() \\\n",
    "    .appName('payPayApp') \\\n",
    "    .master('local[2]') \\\n",
    "    .config('spark.scheduler.mode', 'FAIR') \\\n",
    "    .config('spark.sql.shuffle.partitions', 4) \\\n",
    "    .getOrCreate()\n",
    "\n",
    "spark"
   ]
  },
  {
   "cell_type": "code",
   "execution_count": 3,
   "id": "293d41ad-5ef5-44d1-a370-04b30c8dc329",
   "metadata": {},
   "outputs": [
    {
     "name": "stdout",
     "output_type": "stream",
     "text": [
      "root\n",
      " |-- value: string (nullable = true)\n",
      "\n"
     ]
    }
   ],
   "source": [
    "# Read Log Data\n",
    "\n",
    "logFilePath = \"../data/2015_07_22_mktplace_shop_web_log_sample.log.gz\"\n",
    "df = spark.read.text(logFilePath)\n",
    "df.printSchema()"
   ]
  },
  {
   "cell_type": "code",
   "execution_count": 4,
   "id": "f5aacbfb-e5da-45a5-ba81-d5eef7eaef33",
   "metadata": {},
   "outputs": [],
   "source": [
    "# Reg Ex Pattern and parse analytical data\n",
    "\n",
    "v_new_regex = \"\"\"(\\S+) (\\S+) (\\S+):(\\d+) (\\S+):(\\d+) ([-.0-9]*) ([-.0-9]*) ([-.0-9]*) (|[-0-9]*) (-|[-0-9]*) (\\d+) (\\d+) \"([^ ]*) ([^ ]*) (- |[^ ]*)\" (\\\"[^\\\"]*\\\") ([A-Z0-9-]+) ([A-Za-z0-9.-]*)$\"\"\"\n",
    "\n",
    "\n",
    "# Function to parse each line with RegEx Pattern\n",
    "def fnParseLogLineValue(logline, pattern=v_new_regex):\n",
    "    value = logline.value\n",
    "    match = re.search(pattern, value)\n",
    "    \n",
    "    parsedValues = []\n",
    "    if match is None:\n",
    "        parsedValues =  [None for i in range(1,20)]\n",
    "    else:\n",
    "        parsedValues = [match.group(i).strip() for i in range(1,20)]\n",
    "    \n",
    "    returnValue = tuple(i for i in parsedValues) \n",
    "    return returnValue"
   ]
  },
  {
   "cell_type": "code",
   "execution_count": 5,
   "id": "fbd3f51e-f900-43e4-bb89-922aebbe0a3a",
   "metadata": {},
   "outputs": [
    {
     "name": "stderr",
     "output_type": "stream",
     "text": [
      "                                                                                \r"
     ]
    }
   ],
   "source": [
    "# Parsing Values\n",
    "# ts:String,\n",
    "# domain_nm:String,\n",
    "# fe_ip:String,\n",
    "# bcknd_ip:String,\n",
    "# fe_prcss_time:Double,\n",
    "# bcknd_prcss_time:Double,\n",
    "# clnt_resp_tm:Double,\n",
    "# fe_resp_cd:String,\n",
    "# bcknd_resp_cd:String,\n",
    "# received_bytes:Long,\n",
    "# sent_bytes:Long,\n",
    "# rq_type:String,\n",
    "# url:String,\n",
    "# protocol:String,\n",
    "# usr_agnt:String,\n",
    "# ssl1:String,\n",
    "# ssl2:String,\n",
    "\n",
    "#Additional cols\n",
    "\n",
    "# delta : time_spend\n",
    "# flag: unique_ssn_flg\n",
    "# sessionid: ssn_id\n",
    "\n",
    "col_names = ['ts', 'domain_nm', 'fe_ip', 'fe_port', 'bcknd_ip', 'bcknd_port', 'fe_prcss_time', 'bcknd_prcss_time', 'clnt_resp_tm', 'fe_resp_cd', 'bcknd_resp_cd', 'received_bytes', 'sent_bytes', 'rq_type', 'url', 'protocol', 'usr_agnt', 'ssl', 'ssl2']\n",
    "\n",
    "df_parsed = df.rdd.map(fnParseLogLineValue)\n",
    "df_parsed = df_parsed.toDF(col_names)"
   ]
  },
  {
   "cell_type": "code",
   "execution_count": 6,
   "id": "2a3a44ee-2aaf-41c5-bcac-86161ca8b728",
   "metadata": {},
   "outputs": [],
   "source": [
    "# Adding additional calculative columns\n",
    "\n",
    "v_max_active_ssn_seconds = 900 # i.e. 15 mins\n",
    "v_window_fn = Window.partitionBy(\"fe_ip\", \"bcknd_ip\")\n",
    "v_window_time_diff = v_window_fn.orderBy(asc(\"ts\"))\n",
    "v_window_session = v_window_fn.orderBy([asc(\"fe_ip\"), asc(\"bcknd_ip\"), asc(\"time_spend\")])\n",
    "\n",
    "\n",
    "pvs_ts = lag(\"ts\",1).over(v_window_time_diff)                           \n",
    "df_parsed = df_parsed.withColumn('ts', to_timestamp('ts')) \\\n",
    "    .withColumn('pvs_ts', pvs_ts) \\\n",
    "    .withColumn('time_spend', unix_timestamp('ts') - unix_timestamp('pvs_ts')).na.fill(0) \\\n",
    "    .withColumn('unique_ssn_flg', when(col('time_spend') < lit(v_max_active_ssn_seconds), lit(0)).otherwise(lit(1))) \\\n",
    "    .withColumn('ssn_id', sum(col('unique_ssn_flg')).over(v_window_session))\n"
   ]
  },
  {
   "cell_type": "code",
   "execution_count": 7,
   "id": "4d2599a2-ff27-4b94-8abc-7b6e79477021",
   "metadata": {},
   "outputs": [
    {
     "name": "stderr",
     "output_type": "stream",
     "text": [
      "WARNING:root:'PYARROW_IGNORE_TIMEZONE' environment variable was not set. It is required to set this environment variable to '1' in both driver and executor sides if you use pyarrow>=2.0.0. pandas-on-Spark will set it for you but it does not work if there is a Spark context already launched.\n",
      "22/05/29 15:05:48 WARN WindowExec: No Partition Defined for Window operation! Moving all data to a single partition, this can cause serious performance degradation.\n",
      "22/05/29 15:05:48 WARN WindowExec: No Partition Defined for Window operation! Moving all data to a single partition, this can cause serious performance degradation.\n",
      "22/05/29 15:06:08 WARN WindowExec: No Partition Defined for Window operation! Moving all data to a single partition, this can cause serious performance degradation.\n",
      "22/05/29 15:06:08 WARN WindowExec: No Partition Defined for Window operation! Moving all data to a single partition, this can cause serious performance degradation.\n",
      "                                                                                \r"
     ]
    },
    {
     "data": {
      "text/html": [
       "<div>\n",
       "<style scoped>\n",
       "    .dataframe tbody tr th:only-of-type {\n",
       "        vertical-align: middle;\n",
       "    }\n",
       "\n",
       "    .dataframe tbody tr th {\n",
       "        vertical-align: top;\n",
       "    }\n",
       "\n",
       "    .dataframe thead th {\n",
       "        text-align: right;\n",
       "    }\n",
       "</style>\n",
       "<table border=\"1\" class=\"dataframe\">\n",
       "  <thead>\n",
       "    <tr style=\"text-align: right;\">\n",
       "      <th></th>\n",
       "      <th>ts</th>\n",
       "      <th>fe_ip</th>\n",
       "      <th>bcknd_ip</th>\n",
       "      <th>pvs_ts</th>\n",
       "      <th>url</th>\n",
       "      <th>time_spend</th>\n",
       "      <th>unique_ssn_flg</th>\n",
       "      <th>ssn_id</th>\n",
       "    </tr>\n",
       "  </thead>\n",
       "  <tbody>\n",
       "    <tr>\n",
       "      <th>0</th>\n",
       "      <td>2015-07-22 16:17:06.893987</td>\n",
       "      <td>1.186.101.79</td>\n",
       "      <td>10.0.4.176</td>\n",
       "      <td>NaT</td>\n",
       "      <td>https://paytm.com:443/shop/summary/1116587591</td>\n",
       "      <td>0</td>\n",
       "      <td>0</td>\n",
       "      <td>0</td>\n",
       "    </tr>\n",
       "    <tr>\n",
       "      <th>1</th>\n",
       "      <td>2015-07-22 16:31:15.474375</td>\n",
       "      <td>1.186.101.79</td>\n",
       "      <td>10.0.4.176</td>\n",
       "      <td>2015-07-22 16:17:06.893987</td>\n",
       "      <td>https://paytm.com:443/shop/action</td>\n",
       "      <td>849</td>\n",
       "      <td>0</td>\n",
       "      <td>0</td>\n",
       "    </tr>\n",
       "    <tr>\n",
       "      <th>2</th>\n",
       "      <td>2015-07-22 16:17:01.782695</td>\n",
       "      <td>1.186.101.79</td>\n",
       "      <td>10.0.4.225</td>\n",
       "      <td>NaT</td>\n",
       "      <td>https://paytm.com:443/api/v1/expresscart/check...</td>\n",
       "      <td>0</td>\n",
       "      <td>0</td>\n",
       "      <td>0</td>\n",
       "    </tr>\n",
       "    <tr>\n",
       "      <th>3</th>\n",
       "      <td>2015-07-22 16:34:33.419972</td>\n",
       "      <td>1.186.101.79</td>\n",
       "      <td>10.0.4.225</td>\n",
       "      <td>2015-07-22 16:34:33.269296</td>\n",
       "      <td>https://paytm.com:443/shop/wallet/balance?chan...</td>\n",
       "      <td>0</td>\n",
       "      <td>0</td>\n",
       "      <td>0</td>\n",
       "    </tr>\n",
       "    <tr>\n",
       "      <th>4</th>\n",
       "      <td>2015-07-22 16:17:38.076241</td>\n",
       "      <td>1.186.101.79</td>\n",
       "      <td>10.0.4.225</td>\n",
       "      <td>2015-07-22 16:17:01.782695</td>\n",
       "      <td>https://paytm.com:443/shop/orderdetail/1116587...</td>\n",
       "      <td>37</td>\n",
       "      <td>0</td>\n",
       "      <td>0</td>\n",
       "    </tr>\n",
       "  </tbody>\n",
       "</table>\n",
       "</div>"
      ],
      "text/plain": [
       "                          ts         fe_ip    bcknd_ip                     pvs_ts                                                                      url  time_spend  unique_ssn_flg  ssn_id\n",
       "0 2015-07-22 16:17:06.893987  1.186.101.79  10.0.4.176                        NaT                            https://paytm.com:443/shop/summary/1116587591           0               0       0\n",
       "1 2015-07-22 16:31:15.474375  1.186.101.79  10.0.4.176 2015-07-22 16:17:06.893987                                        https://paytm.com:443/shop/action         849               0       0\n",
       "2 2015-07-22 16:17:01.782695  1.186.101.79  10.0.4.225                        NaT               https://paytm.com:443/api/v1/expresscart/checkout?wallet=1           0               0       0\n",
       "3 2015-07-22 16:34:33.419972  1.186.101.79  10.0.4.225 2015-07-22 16:34:33.269296          https://paytm.com:443/shop/wallet/balance?channel=web&version=2           0               0       0\n",
       "4 2015-07-22 16:17:38.076241  1.186.101.79  10.0.4.225 2015-07-22 16:17:01.782695  https://paytm.com:443/shop/orderdetail/1116587591?channel=web&version=2          37               0       0"
      ]
     },
     "execution_count": 7,
     "metadata": {},
     "output_type": "execute_result"
    }
   ],
   "source": [
    "# Select only the columns needed for analytics\n",
    "\n",
    "lst_of_cols = ['ts', \"fe_ip\", \"bcknd_ip\", 'pvs_ts', 'url', 'time_spend', 'unique_ssn_flg', 'ssn_id']\n",
    "df_log = df_parsed.select(lst_of_cols)\n",
    "\n",
    "df_log.to_pandas_on_spark().head()"
   ]
  },
  {
   "cell_type": "markdown",
   "id": "6c779c0a-a0c8-48fb-a80e-270ae9c9f4bd",
   "metadata": {},
   "source": [
    "### Log Analytics using Spark\n",
    "#### 1.Sessionize the web log by IP. Sessionize = aggregrate all page hits by visitor/IP during a session."
   ]
  },
  {
   "cell_type": "code",
   "execution_count": 8,
   "id": "063d5a1a-43e9-404f-99b1-8757c4fcd112",
   "metadata": {},
   "outputs": [
    {
     "name": "stderr",
     "output_type": "stream",
     "text": [
      "22/05/29 15:06:46 WARN WindowExec: No Partition Defined for Window operation! Moving all data to a single partition, this can cause serious performance degradation.\n",
      "22/05/29 15:06:46 WARN WindowExec: No Partition Defined for Window operation! Moving all data to a single partition, this can cause serious performance degradation.\n",
      "22/05/29 15:07:06 WARN WindowExec: No Partition Defined for Window operation! Moving all data to a single partition, this can cause serious performance degradation.\n",
      "22/05/29 15:07:08 WARN WindowExec: No Partition Defined for Window operation! Moving all data to a single partition, this can cause serious performance degradation.\n",
      "22/05/29 15:07:08 WARN WindowExec: No Partition Defined for Window operation! Moving all data to a single partition, this can cause serious performance degradation.\n",
      "                                                                                \r"
     ]
    },
    {
     "data": {
      "text/html": [
       "<div>\n",
       "<style scoped>\n",
       "    .dataframe tbody tr th:only-of-type {\n",
       "        vertical-align: middle;\n",
       "    }\n",
       "\n",
       "    .dataframe tbody tr th {\n",
       "        vertical-align: top;\n",
       "    }\n",
       "\n",
       "    .dataframe thead th {\n",
       "        text-align: right;\n",
       "    }\n",
       "</style>\n",
       "<table border=\"1\" class=\"dataframe\">\n",
       "  <thead>\n",
       "    <tr style=\"text-align: right;\">\n",
       "      <th></th>\n",
       "      <th>fe_ip</th>\n",
       "      <th>ssn_id</th>\n",
       "      <th>ip_hits</th>\n",
       "    </tr>\n",
       "  </thead>\n",
       "  <tbody>\n",
       "    <tr>\n",
       "      <th>0</th>\n",
       "      <td>1.186.101.79</td>\n",
       "      <td>1</td>\n",
       "      <td>1</td>\n",
       "    </tr>\n",
       "    <tr>\n",
       "      <th>1</th>\n",
       "      <td>1.186.103.78</td>\n",
       "      <td>0</td>\n",
       "      <td>4</td>\n",
       "    </tr>\n",
       "    <tr>\n",
       "      <th>2</th>\n",
       "      <td>1.186.108.242</td>\n",
       "      <td>0</td>\n",
       "      <td>3</td>\n",
       "    </tr>\n",
       "    <tr>\n",
       "      <th>3</th>\n",
       "      <td>1.186.108.28</td>\n",
       "      <td>0</td>\n",
       "      <td>80</td>\n",
       "    </tr>\n",
       "    <tr>\n",
       "      <th>4</th>\n",
       "      <td>1.186.135.123</td>\n",
       "      <td>0</td>\n",
       "      <td>15</td>\n",
       "    </tr>\n",
       "  </tbody>\n",
       "</table>\n",
       "</div>"
      ],
      "text/plain": [
       "           fe_ip  ssn_id  ip_hits\n",
       "0   1.186.101.79       1        1\n",
       "1   1.186.103.78       0        4\n",
       "2  1.186.108.242       0        3\n",
       "3   1.186.108.28       0       80\n",
       "4  1.186.135.123       0       15"
      ]
     },
     "execution_count": 8,
     "metadata": {},
     "output_type": "execute_result"
    }
   ],
   "source": [
    "# Group by IP and session ID and get distinct URLs\n",
    "\n",
    "\n",
    "group_by_cols = ['fe_ip', 'ssn_id']\n",
    "df_sessionise = df_log.groupBy(group_by_cols).agg(count('url').alias('ip_hits'))\n",
    "\n",
    "df_sessionise.to_pandas_on_spark().head()"
   ]
  },
  {
   "cell_type": "markdown",
   "id": "71dba36d-abd6-428b-b4d8-483e577240d4",
   "metadata": {},
   "source": [
    "#### 2. Determine the average session time\n"
   ]
  },
  {
   "cell_type": "code",
   "execution_count": 9,
   "id": "e463810c-c4a6-4027-866d-f839cbf52cab",
   "metadata": {},
   "outputs": [
    {
     "name": "stderr",
     "output_type": "stream",
     "text": [
      "22/05/29 15:07:09 WARN WindowExec: No Partition Defined for Window operation! Moving all data to a single partition, this can cause serious performance degradation.\n",
      "22/05/29 15:07:09 WARN WindowExec: No Partition Defined for Window operation! Moving all data to a single partition, this can cause serious performance degradation.\n",
      "22/05/29 15:07:28 WARN WindowExec: No Partition Defined for Window operation! Moving all data to a single partition, this can cause serious performance degradation.\n",
      "22/05/29 15:07:30 WARN WindowExec: No Partition Defined for Window operation! Moving all data to a single partition, this can cause serious performance degradation.\n",
      "22/05/29 15:07:30 WARN WindowExec: No Partition Defined for Window operation! Moving all data to a single partition, this can cause serious performance degradation.\n",
      "                                                                                \r"
     ]
    },
    {
     "data": {
      "text/html": [
       "<div>\n",
       "<style scoped>\n",
       "    .dataframe tbody tr th:only-of-type {\n",
       "        vertical-align: middle;\n",
       "    }\n",
       "\n",
       "    .dataframe tbody tr th {\n",
       "        vertical-align: top;\n",
       "    }\n",
       "\n",
       "    .dataframe thead th {\n",
       "        text-align: right;\n",
       "    }\n",
       "</style>\n",
       "<table border=\"1\" class=\"dataframe\">\n",
       "  <thead>\n",
       "    <tr style=\"text-align: right;\">\n",
       "      <th></th>\n",
       "      <th>average_ssn_time</th>\n",
       "    </tr>\n",
       "  </thead>\n",
       "  <tbody>\n",
       "    <tr>\n",
       "      <th>0</th>\n",
       "      <td>2910.048425</td>\n",
       "    </tr>\n",
       "  </tbody>\n",
       "</table>\n",
       "</div>"
      ],
      "text/plain": [
       "   average_ssn_time\n",
       "0       2910.048425"
      ]
     },
     "execution_count": 9,
     "metadata": {},
     "output_type": "execute_result"
    }
   ],
   "source": [
    "group_by_cols = ['fe_ip', 'ssn_id']\n",
    "\n",
    "# Group by Ip and Session ID and difference the max timestamp with min timestamp and get average across all\n",
    "df_avg_ssn_tm = df_log.groupBy(group_by_cols).agg(max('ts').alias('max_ts'), min('ts').alias('min_ts')) \\\n",
    "            .withColumn('session_time', unix_timestamp('max_ts') - unix_timestamp('min_ts')) \\\n",
    "            .groupBy().agg(avg('session_time').alias('average_ssn_time'))\n",
    "\n",
    "df_avg_ssn_tm.to_pandas_on_spark().head()"
   ]
  },
  {
   "cell_type": "markdown",
   "id": "0a01fe09-5e5f-4b5b-a959-67d8919d26bd",
   "metadata": {},
   "source": [
    "#### 3. Determine unique URL visits per session. To clarify, count a hit to a unique URL only once per session.\n"
   ]
  },
  {
   "cell_type": "code",
   "execution_count": 10,
   "id": "175f3b8b-f3ee-491b-891a-428b3086f3fc",
   "metadata": {},
   "outputs": [
    {
     "name": "stderr",
     "output_type": "stream",
     "text": [
      "22/05/29 15:07:31 WARN WindowExec: No Partition Defined for Window operation! Moving all data to a single partition, this can cause serious performance degradation.\n",
      "22/05/29 15:07:31 WARN WindowExec: No Partition Defined for Window operation! Moving all data to a single partition, this can cause serious performance degradation.\n",
      "22/05/29 15:07:49 WARN WindowExec: No Partition Defined for Window operation! Moving all data to a single partition, this can cause serious performance degradation.\n",
      "22/05/29 15:07:52 WARN WindowExec: No Partition Defined for Window operation! Moving all data to a single partition, this can cause serious performance degradation.\n",
      "22/05/29 15:07:53 WARN WindowExec: No Partition Defined for Window operation! Moving all data to a single partition, this can cause serious performance degradation.\n",
      "22/05/29 15:07:53 WARN WindowExec: No Partition Defined for Window operation! Moving all data to a single partition, this can cause serious performance degradation.\n",
      "                                                                                \r"
     ]
    },
    {
     "data": {
      "text/html": [
       "<div>\n",
       "<style scoped>\n",
       "    .dataframe tbody tr th:only-of-type {\n",
       "        vertical-align: middle;\n",
       "    }\n",
       "\n",
       "    .dataframe tbody tr th {\n",
       "        vertical-align: top;\n",
       "    }\n",
       "\n",
       "    .dataframe thead th {\n",
       "        text-align: right;\n",
       "    }\n",
       "</style>\n",
       "<table border=\"1\" class=\"dataframe\">\n",
       "  <thead>\n",
       "    <tr style=\"text-align: right;\">\n",
       "      <th></th>\n",
       "      <th>fe_ip</th>\n",
       "      <th>ssn_id</th>\n",
       "      <th>unique_url_per_ssn</th>\n",
       "    </tr>\n",
       "  </thead>\n",
       "  <tbody>\n",
       "    <tr>\n",
       "      <th>0</th>\n",
       "      <td>1.186.108.242</td>\n",
       "      <td>0</td>\n",
       "      <td>3</td>\n",
       "    </tr>\n",
       "    <tr>\n",
       "      <th>1</th>\n",
       "      <td>1.186.108.28</td>\n",
       "      <td>0</td>\n",
       "      <td>80</td>\n",
       "    </tr>\n",
       "    <tr>\n",
       "      <th>2</th>\n",
       "      <td>1.186.135.123</td>\n",
       "      <td>0</td>\n",
       "      <td>11</td>\n",
       "    </tr>\n",
       "    <tr>\n",
       "      <th>3</th>\n",
       "      <td>1.186.146.89</td>\n",
       "      <td>0</td>\n",
       "      <td>8</td>\n",
       "    </tr>\n",
       "    <tr>\n",
       "      <th>4</th>\n",
       "      <td>1.186.180.183</td>\n",
       "      <td>0</td>\n",
       "      <td>4</td>\n",
       "    </tr>\n",
       "  </tbody>\n",
       "</table>\n",
       "</div>"
      ],
      "text/plain": [
       "           fe_ip  ssn_id  unique_url_per_ssn\n",
       "0  1.186.108.242       0                   3\n",
       "1   1.186.108.28       0                  80\n",
       "2  1.186.135.123       0                  11\n",
       "3   1.186.146.89       0                   8\n",
       "4  1.186.180.183       0                   4"
      ]
     },
     "execution_count": 10,
     "metadata": {},
     "output_type": "execute_result"
    }
   ],
   "source": [
    "group_by_cols = ['fe_ip', 'ssn_id']\n",
    "\n",
    "# Group By IP and Session and Get Unique URL page\n",
    "df_unique_url = df_log.groupBy(group_by_cols).agg(count_distinct('url').alias('unique_url_per_ssn'))\n",
    "\n",
    "df_unique_url.to_pandas_on_spark().head()\n"
   ]
  },
  {
   "cell_type": "markdown",
   "id": "d6ee7b72-8178-4970-9325-9e513ad40b2a",
   "metadata": {},
   "source": [
    "#### 4.Find the most engaged users, ie the IPs with the longest session times\n"
   ]
  },
  {
   "cell_type": "code",
   "execution_count": 11,
   "id": "d1887924-e7cf-41b8-b902-2d567e3d9759",
   "metadata": {},
   "outputs": [
    {
     "name": "stderr",
     "output_type": "stream",
     "text": [
      "22/05/29 15:07:53 WARN WindowExec: No Partition Defined for Window operation! Moving all data to a single partition, this can cause serious performance degradation.\n",
      "22/05/29 15:07:53 WARN WindowExec: No Partition Defined for Window operation! Moving all data to a single partition, this can cause serious performance degradation.\n",
      "22/05/29 15:08:12 WARN WindowExec: No Partition Defined for Window operation! Moving all data to a single partition, this can cause serious performance degradation.\n",
      "22/05/29 15:08:14 WARN WindowExec: No Partition Defined for Window operation! Moving all data to a single partition, this can cause serious performance degradation.\n",
      "22/05/29 15:08:15 WARN WindowExec: No Partition Defined for Window operation! Moving all data to a single partition, this can cause serious performance degradation.\n",
      "22/05/29 15:08:15 WARN WindowExec: No Partition Defined for Window operation! Moving all data to a single partition, this can cause serious performance degradation.\n",
      "                                                                                \r"
     ]
    },
    {
     "data": {
      "text/html": [
       "<div>\n",
       "<style scoped>\n",
       "    .dataframe tbody tr th:only-of-type {\n",
       "        vertical-align: middle;\n",
       "    }\n",
       "\n",
       "    .dataframe tbody tr th {\n",
       "        vertical-align: top;\n",
       "    }\n",
       "\n",
       "    .dataframe thead th {\n",
       "        text-align: right;\n",
       "    }\n",
       "</style>\n",
       "<table border=\"1\" class=\"dataframe\">\n",
       "  <thead>\n",
       "    <tr style=\"text-align: right;\">\n",
       "      <th></th>\n",
       "      <th>fe_ip</th>\n",
       "      <th>long_ssn_time_per_ip</th>\n",
       "    </tr>\n",
       "  </thead>\n",
       "  <tbody>\n",
       "    <tr>\n",
       "      <th>0</th>\n",
       "      <td>1.186.103.78</td>\n",
       "      <td>9</td>\n",
       "    </tr>\n",
       "    <tr>\n",
       "      <th>1</th>\n",
       "      <td>1.186.108.242</td>\n",
       "      <td>3</td>\n",
       "    </tr>\n",
       "    <tr>\n",
       "      <th>2</th>\n",
       "      <td>1.186.108.28</td>\n",
       "      <td>6</td>\n",
       "    </tr>\n",
       "    <tr>\n",
       "      <th>3</th>\n",
       "      <td>1.186.146.89</td>\n",
       "      <td>114</td>\n",
       "    </tr>\n",
       "    <tr>\n",
       "      <th>4</th>\n",
       "      <td>1.186.180.183</td>\n",
       "      <td>17330</td>\n",
       "    </tr>\n",
       "  </tbody>\n",
       "</table>\n",
       "</div>"
      ],
      "text/plain": [
       "           fe_ip  long_ssn_time_per_ip\n",
       "0   1.186.103.78                     9\n",
       "1  1.186.108.242                     3\n",
       "2   1.186.108.28                     6\n",
       "3   1.186.146.89                   114\n",
       "4  1.186.180.183                 17330"
      ]
     },
     "execution_count": 11,
     "metadata": {},
     "output_type": "execute_result"
    }
   ],
   "source": [
    "group_by_cols = ['fe_ip', 'ssn_id']\n",
    "\n",
    "# Group By IP and session id and get Time difference of start and end of the session and get max of time Spend\n",
    "df_long_ssn_ip = df_log.groupBy(group_by_cols).agg(max('ts').alias('max_ts'), min('ts').alias('min_ts')) \\\n",
    "            .withColumn('session_time', unix_timestamp('max_ts') - unix_timestamp('min_ts')) \\\n",
    "            .groupBy('fe_ip').agg(max('session_time').alias('long_ssn_time_per_ip'))\n",
    "\n",
    "df_long_ssn_ip.to_pandas_on_spark().head()"
   ]
  },
  {
   "cell_type": "code",
   "execution_count": null,
   "id": "034ff661-ab55-4a00-9c75-b1d0b6a824a3",
   "metadata": {},
   "outputs": [],
   "source": []
  }
 ],
 "metadata": {
  "kernelspec": {
   "display_name": "Python 3 (ipykernel)",
   "language": "python",
   "name": "python3"
  },
  "language_info": {
   "codemirror_mode": {
    "name": "ipython",
    "version": 3
   },
   "file_extension": ".py",
   "mimetype": "text/x-python",
   "name": "python",
   "nbconvert_exporter": "python",
   "pygments_lexer": "ipython3",
   "version": "3.7.9"
  }
 },
 "nbformat": 4,
 "nbformat_minor": 5
}
